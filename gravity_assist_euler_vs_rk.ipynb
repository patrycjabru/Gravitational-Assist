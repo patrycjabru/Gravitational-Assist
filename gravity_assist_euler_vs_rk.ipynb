{
 "cells": [
  {
   "cell_type": "markdown",
   "metadata": {},
   "source": [
    "# Gravity assist model "
   ]
  },
  {
   "cell_type": "code",
   "execution_count": 2,
   "metadata": {},
   "outputs": [],
   "source": [
    "import numpy as np\n",
    "\n",
    "# parameters\n",
    "dt = 0.1 #[h]\n",
    "N = 3000; #number of samples\n",
    "T = N * dt #whole time of simulation [h]\n",
    "G = 6.67430 * (10**(-11-3-3-3)) * 3600**2  #[km^3 / kg*h^2]\n",
    "M = 189.819 * 10**23 / 36 # Mass of the planet (Jupiter) [kg]\n",
    "x0p = 0 #start location of the planet\n",
    "y0p = 0\n",
    "x0s = 70000 #start location of the spacecraft [km]\n",
    "y0s = -80000\n",
    "Vxp = 2000 #velocity of the planet [km/h]\n",
    "Vyp = 0\n",
    "vx0s = -1000 #initial velocity of the spacecraft [km/h]\n",
    "vy0s = 700\n",
    "m = 1136 # Mass of the spacecraft [kg] \n",
    "\n",
    "\n",
    "#calculation variables\n",
    "Xs = np.zeros(N) #x axis location of a spacecraft\n",
    "Ys = np.zeros(N) #y axis location of a spacecraft\n",
    "\n",
    "Xp = np.zeros(N) #x axis location of a planet\n",
    "Yp = np.zeros(N) #y axis location of a planet\n",
    "\n",
    "Vxs = np.zeros(N) #x axis velocity of a spacecraft\n",
    "Vys = np.zeros(N) #y axis vleocity of a spacecraft\n",
    "\n",
    "\n",
    "#intial state\n",
    "Xs[0] = x0s\n",
    "Ys[0] = y0s\n",
    "\n",
    "Xp[0] = x0p\n",
    "Yp[0] = y0p\n",
    "\n",
    "Vxs[0] = vx0s\n",
    "Vys[0] = vy0s"
   ]
  },
  {
   "cell_type": "markdown",
   "metadata": {},
   "source": [
    "## Euler–Cromer method"
   ]
  },
  {
   "cell_type": "code",
   "execution_count": 3,
   "metadata": {},
   "outputs": [],
   "source": [
    "def calculateRange(xp,yp,xs,ys):\n",
    "    return np.sqrt((xp-xs)**2+(yp-ys)**2)\n",
    "\n",
    "def calculateVelocity(Vi,loci,r):\n",
    "    return Vi - (G*M*loci)/(r**3) * dt\n",
    "\n",
    "def calculatePosition(loci, Vi_):\n",
    "    return loci + Vi_*dt"
   ]
  },
  {
   "cell_type": "code",
   "execution_count": 4,
   "metadata": {},
   "outputs": [],
   "source": [
    "#Simple iterative approach\n",
    "\n",
    "for i in range(1,N):\n",
    "    # range between planet and spacecraft\n",
    "    r = calculateRange(Xp[i-1],Yp[i-1],Xs[i-1],Ys[i-1])\n",
    "    \n",
    "    # velocity of the spacecraft\n",
    "    Vxs[i] = calculateVelocity(Vxs[i-1],Xs[i-1],r)\n",
    "    Vys[i] = calculateVelocity(Vys[i-1],Ys[i-1],r)\n",
    "    \n",
    "    # location of a spacecraft\n",
    "    Xs[i] = calculatePosition(Xs[i-1],Vxs[i])\n",
    "    Ys[i] = calculatePosition(Ys[i-1],Vys[i])\n",
    "    \n",
    "    # location of a planet\n",
    "    Xp[i] = calculatePosition(Xp[i-1],Vxp)\n",
    "    Yp[i] = calculatePosition(Yp[i-1],Vyp)"
   ]
  },
  {
   "cell_type": "markdown",
   "metadata": {},
   "source": [
    "## 4th order Runge-Kutta method"
   ]
  },
  {
   "cell_type": "code",
   "execution_count": 5,
   "metadata": {},
   "outputs": [],
   "source": [
    "import math\n",
    "\n",
    "class State:\n",
    "    def __init__(self, x, y, vx, vy, m):\n",
    "        self._x, self._y, self._vx, self._vy, self._m = x, y, vx, vy, m\n",
    "\n",
    "    def __repr__(self):\n",
    "        return 'x:{x} y:{y} vx:{vx} vy:{vy} m:{m}'.format(\n",
    "            x=self._x, y=self._y, vx=self._vx, vy=self._vy, m=self._m)\n",
    "\n",
    "\n",
    "class Derivative:\n",
    "    def __init__(self, dx, dy, dvx, dvy):\n",
    "        self._dx, self._dy, self._dvx, self._dvy = dx, dy, dvx, dvy\n",
    "\n",
    "    def __repr__(self):\n",
    "        return 'dx:{dx} dy:{dy} dvx:{dvx} dvy:{dvy}'.format(\n",
    "            dx=self._dx, dy=self._dy, dvx=self._dvx, dvy=self._dvy)\n",
    "\n",
    "\n",
    "\n",
    "def acceleration(obj_a, obj_b, unused_t):\n",
    "        dx = obj_b._x - obj_a._x\n",
    "        dy = obj_b._y - obj_a._y\n",
    "        dr = math.sqrt(dx*dx + dy*dy)  # distance\n",
    "        force = G*obj_b._m/(dr**3) if dr>1e-10 else 0.\n",
    "        ax = force*dx\n",
    "        ay = force*dy\n",
    "        return (ax, ay)\n",
    "\n",
    "#calculate obj_a according to obj_b\n",
    "def initialDerivative(obj_a,obj_b, t):\n",
    "        ax, ay = acceleration(obj_a, obj_b, t)\n",
    "        return Derivative(obj_a._vx, obj_a._vy, ax, ay)\n",
    "\n",
    "    #calculate obj_a according to obj_b\n",
    "def nextDerivative(initialState, obj_b, derivative, t, dt):\n",
    "        state = State(0., 0., 0., 0., 0.)\n",
    "        state._x = initialState._x + derivative._dx*dt\n",
    "        state._y = initialState._y + derivative._dy*dt\n",
    "        state._vx = initialState._vx + derivative._dvx*dt\n",
    "        state._vy = initialState._vy + derivative._dvy*dt\n",
    "        ax, ay = acceleration(state, obj_b, t+dt)\n",
    "        return Derivative(state._vx, state._vy, ax, ay)\n",
    "\n",
    "    #calculate obj_a according to obj_b\n",
    "def update_obj(obj_a, obj_b, t, dt):\n",
    "        a = initialDerivative(obj_a,obj_b, t)\n",
    "        b = nextDerivative(obj_a,obj_b, a, t, dt*0.5)\n",
    "        c = nextDerivative(obj_a,obj_b, b, t, dt*0.5)\n",
    "        d = nextDerivative(obj_a,obj_b, c, t, dt)\n",
    "        dxdt = 1.0/6.0 * (a._dx + 2.0*(b._dx + c._dx) + d._dx)\n",
    "        dydt = 1.0/6.0 * (a._dy + 2.0*(b._dy + c._dy) + d._dy)\n",
    "        dvxdt = 1.0/6.0 * (a._dvx + 2.0*(b._dvx + c._dvx) + d._dvx)\n",
    "        dvydt = 1.0/6.0 * (a._dvy + 2.0*(b._dvy + c._dvy) + d._dvy)\n",
    "        \n",
    "        return State(obj_a._x + dxdt*dt,obj_a._y + dydt*dt,obj_a._vx + dvxdt*dt, obj_a._vy + dvydt*dt, obj_a._m)"
   ]
  },
  {
   "cell_type": "code",
   "execution_count": 6,
   "metadata": {},
   "outputs": [],
   "source": [
    "planet = State(x0p, y0p, Vxp, Vyp,M)\n",
    "starcraft = State(x0s, y0s, vx0s, vy0s,m)\n",
    "starcraft_states=[starcraft]\n",
    "planet_states=[planet]\n",
    "t=0.\n",
    "for i in range(1,N):\n",
    "        t += dt\n",
    "        starcraft_states.append(update_obj(starcraft_states[i-1],planet_states[i-1],t,dt))\n",
    "        planet_states.append(update_obj(planet_states[i-1],starcraft_states[i-1],t,dt))\n"
   ]
  },
  {
   "cell_type": "code",
   "execution_count": 7,
   "metadata": {},
   "outputs": [],
   "source": [
    "xs = [i._x for i in starcraft_states]\n",
    "ys = [i._y for i in starcraft_states]\n",
    "xp = [i._x for i in planet_states]\n",
    "yp = [i._y for i in planet_states]\n",
    "vxs = [i._vx for i in starcraft_states]\n",
    "v_value = [math.sqrt(i._vx**2+i._vy**2) for i in starcraft_states]\n",
    "\n"
   ]
  },
  {
   "cell_type": "markdown",
   "metadata": {},
   "source": [
    "## Comparison of Euler–Cromer method and 4th order Runge-Kutta method "
   ]
  },
  {
   "cell_type": "code",
   "execution_count": 8,
   "metadata": {},
   "outputs": [
    {
     "data": {
      "text/plain": [
       "<Figure size 700x500 with 1 Axes>"
      ]
     },
     "metadata": {},
     "output_type": "display_data"
    },
    {
     "data": {
      "text/plain": [
       "<Figure size 700x500 with 1 Axes>"
      ]
     },
     "metadata": {},
     "output_type": "display_data"
    }
   ],
   "source": [
    "import matplotlib.pyplot as plt \n",
    "import matplotlib.animation as animation \n",
    "\n",
    "plt.style.use('seaborn-white')\n",
    "\n",
    "fig, ax = plt.subplots()\n",
    "plt.title(\"Spacecraft and planet trajectory Euler–Cromer method\") \n",
    "fig.set_size_inches(7, 5)\n",
    "line, = ax.plot(Xs,Ys, label=\"spacecraft\") \n",
    "line2, = ax.plot(Xp,Yp, label=\"planet\") \n",
    "ax.legend()\n",
    "ax.set_xlabel('x [km]')\n",
    "ax.set_ylabel('y [km]')\n",
    "plt.show()\n",
    "\n",
    "fig, ax = plt.subplots()\n",
    "plt.title(\"Spacecraft and planet trajectory 4th order Runge-Kutta method\") \n",
    "fig.set_size_inches(7, 5)\n",
    "line, = ax.plot(xs,ys, label=\"spacecraft\") \n",
    "line2, = ax.plot(xp,yp, label=\"planet\") \n",
    "ax.legend()\n",
    "ax.set_xlabel('x [km]')\n",
    "ax.set_ylabel('y [km]')\n",
    "plt.show()\n",
    "\n",
    "\n"
   ]
  },
  {
   "cell_type": "markdown",
   "metadata": {},
   "source": [
    "## Euler–Cromer method results"
   ]
  },
  {
   "cell_type": "code",
   "execution_count": 9,
   "metadata": {},
   "outputs": [
    {
     "data": {
      "image/png": "[encoded data removed]",
      "text/plain": [
       "<Figure size 720x504 with 1 Axes>"
      ]
     },
     "metadata": {
      "needs_background": "light"
     },
     "output_type": "display_data"
    }
   ],
   "source": [
    "fig, ax = plt.subplots()\n",
    "plt.title(\"Spacecraft' velocity in time\") \n",
    "fig.set_size_inches(10, 7)\n",
    "line, = ax.plot([i*dt for i in range(N)],v_value) \n",
    "ax.set_xlabel('time [h]')\n",
    "ax.set_ylabel('velocity [km/h]')\n",
    "plt.show()"
   ]
  },
  {
   "cell_type": "code",
   "execution_count": 10,
   "metadata": {},
   "outputs": [
    {
     "data": {
      "image/png": "[encoded data removed]",
      "text/plain": [
       "<Figure size 720x504 with 1 Axes>"
      ]
     },
     "metadata": {
      "needs_background": "light"
     },
     "output_type": "display_data"
    }
   ],
   "source": [
    "fig, ax = plt.subplots()\n",
    "plt.title(\"Spacecraft and planet trajectory\") \n",
    "fig.set_size_inches(10, 7)\n",
    "line, = ax.plot(xs,ys, label=\"spacecraft\") \n",
    "line2, = ax.plot(xp,yp, label=\"planet\") \n",
    "ax.legend()\n",
    "ax.set_xlabel('x [km]')\n",
    "ax.set_ylabel('y [km]')\n",
    "plt.show()"
   ]
  },
  {
   "cell_type": "markdown",
   "metadata": {},
   "source": [
    "### Value of velocity increase"
   ]
  },
  {
   "cell_type": "code",
   "execution_count": 11,
   "metadata": {},
   "outputs": [
    {
     "data": {
      "text/plain": [
       "2008.986424400737"
      ]
     },
     "execution_count": 11,
     "metadata": {},
     "output_type": "execute_result"
    }
   ],
   "source": [
    "v_value[-1]-v_value[1]"
   ]
  },
  {
   "cell_type": "markdown",
   "metadata": {},
   "source": [
    "### Animated plots"
   ]
  },
  {
   "cell_type": "code",
   "execution_count": null,
   "metadata": {
    "scrolled": true
   },
   "outputs": [],
   "source": [
    "fig, ax = plt.subplots()\n",
    "fig.set_size_inches(15, 10)\n",
    "ax.set_xlim(-10000,150000)\n",
    "ax.set_ylim(-100000,150000)\n",
    "line, = ax.plot([], [],label=\"spacecraft\") \n",
    "ax.set_xlabel('x [km]')\n",
    "ax.set_ylabel('y [km]')\n",
    "\n",
    "ax2 = ax.twinx()\n",
    "ax2.set_ylim(-100000,150000)\n",
    "\n",
    "line2, = ax.plot([], [], 'ro',label=\"planet\") \n",
    "\n",
    "ax3 = ax.twinx()\n",
    "line3, = ax.plot([], [], 'bo') \n",
    "ax.legend(loc='upper left')\n",
    "\n",
    "\n",
    "# initialization function \n",
    "def init(): \n",
    "    # creating an empty plot/frame \n",
    "    line.set_data([], []) \n",
    "    line2.set_data([], []) \n",
    "    line3.set_data([], []) \n",
    "    return line, \n",
    "\n",
    "# lists to store x and y axis points \n",
    "xdata, ydata = [], []\n",
    "\n",
    "# animation function \n",
    "def animate(i): \n",
    "    # x, y values to be plotted \n",
    "    x = xs[8*i]\n",
    "    y = ys[8*i]\n",
    "    x2 = xp[8*i]\n",
    "    y2 = yp[8*i] if yp[i]>0.001 else 0\n",
    "    # appending new points to x, y axes points list \n",
    "    xdata.append(x) \n",
    "    ydata.append(y) \n",
    "    line.set_data(xdata,ydata) \n",
    "    line2.set_data(x2,y2)\n",
    "    line3.set_data(x,y)\n",
    "    return line, \n",
    "\n",
    "# setting a title for the plot \n",
    "plt.title('Spacecraft in time') \n",
    "\n",
    "# call the animator\t \n",
    "anim = animation.FuncAnimation(fig, animate, init_func=init, \n",
    "                                frames=N//8, interval=0.0001, blit=True)\n",
    "\n",
    "# save the animation as mp4 video file \n",
    "anim.save('trajectory.gif',writer='imagemagick')\n"
   ]
  },
  {
   "cell_type": "code",
   "execution_count": null,
   "metadata": {},
   "outputs": [],
   "source": [
    "import matplotlib.pyplot as plt \n",
    "import matplotlib.animation as animation \n",
    "import numpy as np \n",
    "\n",
    "fig, ax = plt.subplots()\n",
    "fig.set_size_inches(25.5, 12.5)\n",
    "ax.set_xlim(-10,310)\n",
    "ax.set_ylim(1800,5000)\n",
    "line, = ax.plot([], []) \n",
    "ax.set_xlabel('time [h]')\n",
    "ax.set_ylabel('velocity [km/h]')\n",
    "\n",
    "\n",
    "\n",
    "# initialization function \n",
    "def init(): \n",
    "    # creating an empty plot/frame \n",
    "    line.set_data([], []) \n",
    "    line2.set_data([], []) \n",
    "    line3.set_data([], []) \n",
    "    return line, \n",
    "\n",
    "# lists to store x and y axis points \n",
    "xdata, ydata = [], []\n",
    "\n",
    "# animation function \n",
    "def animate(i): \n",
    "    # x, y values to be plotted \n",
    "    x = 8*i*dt\n",
    "    y = v_value[8*i]\n",
    "    # appending new points to x, y axes points list \n",
    "    xdata.append(x) \n",
    "    ydata.append(y) \n",
    "    line.set_data(xdata,ydata) \n",
    "    return line, \n",
    "\n",
    "# setting a title for the plot \n",
    "plt.title(\"Spacecraft' velocity in time\") \n",
    "# hiding the axis details \n",
    "plt.axis('on') \n",
    "\n",
    "# call the animator\t \n",
    "anim = animation.FuncAnimation(fig, animate, init_func=init, \n",
    "                                frames=N//8, interval=0.0001, blit=True); \n",
    "\n",
    "# save the animation as mp4 video file \n",
    "anim.save('velocity.gif',writer='imagemagick')\n"
   ]
  }
 ],
 "metadata": {
  "kernelspec": {
   "display_name": "Python 3",
   "language": "python",
   "name": "python3"
  },
  "language_info": {
   "codemirror_mode": {
    "name": "ipython",
    "version": 3
   },
   "file_extension": ".py",
   "mimetype": "text/x-python",
   "name": "python",
   "nbconvert_exporter": "python",
   "pygments_lexer": "ipython3",
   "version": "3.7.4"
  }
 },
 "nbformat": 4,
 "nbformat_minor": 2
}
